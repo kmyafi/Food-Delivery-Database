{
  "cells": [
    {
      "cell_type": "code",
      "execution_count": null,
      "id": "847de689",
      "metadata": {
        "id": "847de689"
      },
      "outputs": [],
      "source": [
        "import sqlite3\n",
        "import pandas as pd\n",
        "import random as rd\n",
        "import datetime\n",
        "from datetime import datetime, timedelta, date\n",
        "import numpy as np"
      ]
    },
    {
      "cell_type": "code",
      "execution_count": null,
      "id": "82658cbd",
      "metadata": {
        "id": "82658cbd"
      },
      "outputs": [],
      "source": [
        "conn = sqlite3.connect('fooddelivery.db')\n",
        "c = conn.cursor()"
      ]
    },
    {
      "cell_type": "code",
      "execution_count": null,
      "id": "6bf455d4",
      "metadata": {
        "colab": {
          "base_uri": "https://localhost:8080/"
        },
        "id": "6bf455d4",
        "outputId": "e80c911f-7480-4b66-a1c0-cb13b58a5a7e"
      },
      "outputs": [
        {
          "output_type": "execute_result",
          "data": {
            "text/plain": [
              "<sqlite3.Cursor at 0x7f00f06f5f40>"
            ]
          },
          "metadata": {},
          "execution_count": 18
        }
      ],
      "source": [
        "c.execute(\"\"\"CREATE TABLE Kurir (\n",
        "        id_kurir INTEGER NOT NULL UNIQUE,\n",
        "        nama_kurir VARCHAR(50) NOT NULL,\n",
        "        plat_kendaraan VARCHAR(10) NOT NULL,\n",
        "        PRIMARY KEY(id_kurir)\n",
        "    )\"\"\")"
      ]
    },
    {
      "cell_type": "code",
      "execution_count": null,
      "id": "99038db3",
      "metadata": {
        "colab": {
          "base_uri": "https://localhost:8080/"
        },
        "id": "99038db3",
        "outputId": "c99c5923-d29e-4f8f-9166-b4ff280643d8"
      },
      "outputs": [
        {
          "output_type": "execute_result",
          "data": {
            "text/plain": [
              "<sqlite3.Cursor at 0x7f00f06f5f40>"
            ]
          },
          "metadata": {},
          "execution_count": 19
        }
      ],
      "source": [
        "c.execute(\"\"\"CREATE TABLE Menu (\n",
        "        id_produk INTEGER NOT NULL UNIQUE,\n",
        "        id_restoran INTEGER NOT NULL,\n",
        "        nama_produk VARCHAR(50) NOT NULL,\n",
        "        deskripsi VARCHAR(100),\n",
        "        harga FLOAT NOT NULL,\n",
        "        kategori VARCHAR(20) NOT NULL,\n",
        "        jumlah INTEGER,\n",
        "        PRIMARY KEY(id_produk),\n",
        "        FOREIGN KEY(id_restoran) REFERENCES Restoran(id_restoran)\n",
        "    )\"\"\")"
      ]
    },
    {
      "cell_type": "code",
      "execution_count": null,
      "id": "58b51afa",
      "metadata": {
        "colab": {
          "base_uri": "https://localhost:8080/"
        },
        "id": "58b51afa",
        "outputId": "21f1628e-1f4c-4056-cae8-455c5080798a"
      },
      "outputs": [
        {
          "output_type": "execute_result",
          "data": {
            "text/plain": [
              "<sqlite3.Cursor at 0x7f00f06f5f40>"
            ]
          },
          "metadata": {},
          "execution_count": 20
        }
      ],
      "source": [
        "c.execute(\"\"\"CREATE TABLE Pengguna (\n",
        "        id_pengguna INTEGER NOT NULL UNIQUE,\n",
        "        nama_pengguna VARCHAR(50) NOT NULL,\n",
        "        no_telp INTEGER NOT NULL UNIQUE,\n",
        "        email VARCHAR(30) NOT NULL UNIQUE,\n",
        "        alamat VARCHAR(100) NOT NULL,\n",
        "        PRIMARY KEY(id_pengguna)\n",
        "    )\"\"\")"
      ]
    },
    {
      "cell_type": "code",
      "execution_count": null,
      "id": "f25acbbf",
      "metadata": {
        "colab": {
          "base_uri": "https://localhost:8080/"
        },
        "id": "f25acbbf",
        "outputId": "c5bfac96-4812-45c3-96f3-bf78b774b31f"
      },
      "outputs": [
        {
          "output_type": "execute_result",
          "data": {
            "text/plain": [
              "<sqlite3.Cursor at 0x7f00f06f5f40>"
            ]
          },
          "metadata": {},
          "execution_count": 21
        }
      ],
      "source": [
        "c.execute(\"\"\"CREATE TABLE Pengiriman (\n",
        "        id_pengiriman INTEGER NOT NULL UNIQUE,\n",
        "        ongkos_pengiriman FLOAT,\n",
        "        waktu_pengiriman DATETIME,\n",
        "        id_kurir INTEGER,\n",
        "        PRIMARY KEY(id_pengiriman),\n",
        "        FOREIGN KEY(id_kurir) REFERENCES Pengguna(id_kurir)\n",
        "    )\"\"\")"
      ]
    },
    {
      "cell_type": "code",
      "execution_count": null,
      "id": "04a5cdfb",
      "metadata": {
        "colab": {
          "base_uri": "https://localhost:8080/"
        },
        "id": "04a5cdfb",
        "outputId": "c2e42de1-03f3-4193-d84d-0112d0542ed1"
      },
      "outputs": [
        {
          "output_type": "execute_result",
          "data": {
            "text/plain": [
              "<sqlite3.Cursor at 0x7f00f06f5f40>"
            ]
          },
          "metadata": {},
          "execution_count": 22
        }
      ],
      "source": [
        "c.execute(\"\"\"CREATE TABLE Pesanan (\n",
        "        no_order INTEGER NOT NULL UNIQUE,\n",
        "        total_harga FLOAT NOT NULL,\n",
        "        waktu_pemesanan DATETIME NOT NULL,\n",
        "        status VARCHAR(20) NOT NULL,\n",
        "        id_pengguna INTEGER,\n",
        "        id_produk INTEGER,\n",
        "        id_pengiriman INTEGER,\n",
        "        PRIMARY KEY(no_order),\n",
        "        FOREIGN KEY(id_pengguna) REFERENCES Pengguna(id_pengguna),\n",
        "        FOREIGN KEY(id_pengiriman) REFERENCES Pengiriman(id_pengiriman),\n",
        "        FOREIGN KEY(id_produk) REFERENCES Menu(id_produk)\n",
        "    )\"\"\")"
      ]
    },
    {
      "cell_type": "code",
      "execution_count": null,
      "id": "4b19b21f",
      "metadata": {
        "colab": {
          "base_uri": "https://localhost:8080/"
        },
        "id": "4b19b21f",
        "outputId": "ac467e69-85da-4cfa-a414-5cda9dda5285"
      },
      "outputs": [
        {
          "output_type": "execute_result",
          "data": {
            "text/plain": [
              "<sqlite3.Cursor at 0x7f00f06f5f40>"
            ]
          },
          "metadata": {},
          "execution_count": 23
        }
      ],
      "source": [
        "c.execute(\"\"\"CREATE TABLE Restoran (\n",
        "        id_restoran INTEGER NOT NULL UNIQUE,\n",
        "        nama_restoran VARCHAR(50),\n",
        "        alamat VARCHAR(100),\n",
        "        rating FLOAT,\n",
        "        kontak VARCHAR(30),\n",
        "        PRIMARY KEY(id_restoran)\n",
        "    )\"\"\")"
      ]
    },
    {
      "cell_type": "code",
      "execution_count": null,
      "id": "849bceb2",
      "metadata": {
        "id": "849bceb2"
      },
      "outputs": [],
      "source": [
        "manykurir = [\n",
        "    (10101, 'Rochmat', 'B 1234 CDE'),\n",
        "    (10102, 'Agus', 'B 1357 EFG'),\n",
        "    (10103, 'Rio', 'B 2468 GHI'),\n",
        "    (10104, 'Budi', 'B 8247 UJK'),\n",
        "    (10105, 'Yanto', 'F 9462 AKP')\n",
        "]\n",
        "\n",
        "manymenu = [\n",
        "    (20201, 60601, 'Nasi Cumi Item', 'Nasi, Cumi Item, Mie, Serundeng, Peyek Udang, Sambal Pencit', 45000, 'Makanan', 100),\n",
        "    (20202, 60602, 'Mie Gacoan LV1', 'Mie kenyal, Cabai, Ayam suwir, Pangsit goreng', 14500, 'Makanan', 50),\n",
        "    (20203, 60603, 'Coconut Jelly Milk Tea', 'Milk tea dengan topping coconut jelly yang lembut', 21000, 'Minuman', 10),\n",
        "    (20204, 60604, 'Ayam Goreng Paha', 'Nasi + Ayam Goreng + Sambal + Lalapan', 24000, 'Makanan', 36),\n",
        "    (20205, 60605, 'Combo A', 'Papas pizza large, Mac n cheese, Garlic bread, 2 Lemon tea', 16000, 'Makanan', 5)\n",
        "]\n",
        "\n",
        "manypengguna = [\n",
        "    (30301, 'Casia', '08123443210', 'casia01@gmail.com', 'Jl. Meruya Ilir No. 25, Jakarta Barat'),\n",
        "    (30302, 'Zhafira', '087865780099', 'zhafiraa30@gmail.com', 'Jl. Ampera Raya No.11, Jakarta Selatan'),\n",
        "    (30303, 'Aisha', '085866563443', 'aishazhar@gmail.com', 'Jl. Asia Afrika No. 2, Jakarta Pusat'),\n",
        "    (30304, 'Calvin', '087899006756', 'calvinhar@gmail.com', 'Jl. Bougenville Blok C5, Bekasi'),\n",
        "    (30305, 'Aksa', '085670093456', 'aksaputra@gmail.com', 'Jl. Kelapa Nias Blok A3, Jakarta Utara')\n",
        "]\n",
        "\n",
        "manypengiriman = [\n",
        "    (40401, 20000, '35 menit', 10101),\n",
        "    (40402, 17000, '30 menit', 10102),\n",
        "    (40403, 10000, '15 menit', 10103),\n",
        "    (40404, 19000, '20 menit', 10104),\n",
        "    (40405, 12000, '12 menit', 10105)\n",
        "]\n",
        "\n",
        "manypesanan = [\n",
        "    (50501, 65000, '2023-06-14 17:34:11', 'Disiapkan', 30301, 20201, 40401),\n",
        "    (50502, 70000, '2023-06-14 20:21:12', 'Dikirim', 30302, 20202, 40402),\n",
        "    (50503, 53000, '2023-06-14 22:52:33', 'Dikirim', 30303, 20203, 40403),\n",
        "    (50504, 44000, '2023-06-15 07:18:46', 'Disiapkan', 30304, 20204, 40404),\n",
        "    (50505, 39000, '2023-06-15 09:26:28', 'Dikirim', 30305, 20205, 40405)\n",
        "]\n",
        "\n",
        "manyrestoran = [\n",
        "    (60601, 'Nasi Cumi Hitam Madura Pak Kris', 'Jl. H. Nawi Raya No.28, Jakarta Selatan', 4.4, '082310107778'),\n",
        "    (60602, 'Mie Gacoan', 'Jl. Bintara, Kota Bekasi', 4.5, '0895414854300'),\n",
        "    (60603, 'Mixue', 'Jl. Sumur Batu Raya No.14, Jakarta Pusat', 4.6, '08118160829'),\n",
        "    (60604, 'Ayam Gepuk Pak Gembus', 'Jl. Meruya Ilir Raya No. 88, Jakarta Barat', 4.7, '08161998777'),\n",
        "    (60605, 'Papa Rons Pizza', 'Jl. Kelapa Nias Blok HF3, Jakarta Utara', 4.3, '085810616466')\n",
        "]"
      ]
    },
    {
      "cell_type": "code",
      "execution_count": null,
      "id": "600edc47",
      "metadata": {
        "colab": {
          "base_uri": "https://localhost:8080/"
        },
        "id": "600edc47",
        "outputId": "018a2a88-2c43-4538-9c0e-e230801e0d31"
      },
      "outputs": [
        {
          "output_type": "execute_result",
          "data": {
            "text/plain": [
              "<sqlite3.Cursor at 0x7f00f06f5f40>"
            ]
          },
          "metadata": {},
          "execution_count": 25
        }
      ],
      "source": [
        "c.executemany('INSERT INTO Kurir VALUES (?,?,?)', manykurir)\n",
        "c.executemany('INSERT INTO Menu VALUES (?,?,?,?,?,?,?)', manymenu)\n",
        "c.executemany('INSERT INTO Pengguna VALUES (?,?,?,?,?)', manypengguna)\n",
        "c.executemany('INSERT INTO Pengiriman VALUES (?,?,?,?)', manypengiriman)\n",
        "c.executemany('INSERT INTO Pesanan VALUES (?,?,?,?,?,?,?)', manypesanan)\n",
        "c.executemany('INSERT INTO Restoran VALUES (?,?,?,?,?)', manyrestoran)"
      ]
    },
    {
      "cell_type": "code",
      "execution_count": null,
      "id": "0c7780f4",
      "metadata": {
        "id": "0c7780f4"
      },
      "outputs": [],
      "source": [
        "insertkurir = 'INSERT INTO Kurir VALUES (?,?,?)'\n",
        "insertmenu = 'INSERT INTO Menu VALUES (?,?,?,?,?,?,?)'\n",
        "insertpengguna = 'INSERT INTO Pengguna VALUES (?,?,?,?,?)'\n",
        "insertpengiriman = 'INSERT INTO Pengiriman VALUES (?,?,?,?)'\n",
        "insertpesanan = 'INSERT INTO Pesanan VALUES (?,?,?,?,?,?,?)'\n",
        "insertrestoran = 'INSERT INTO Restoran VALUES (?,?,?,?,?)'"
      ]
    },
    {
      "cell_type": "code",
      "source": [
        "while True:\n",
        "    print(pd.read_sql_query('SELECT * FROM Restoran', conn))\n",
        "    posisi = int(input('\\nApa tujuan Anda di sini? (Seller (0) / Customer (1) / Driver (2)): '))\n",
        "    if posisi == 1:\n",
        "        print(\"Apakah Anda ingin membeli Makanan/Minuman?\")\n",
        "        choice = int(input(\"Ingin membeli barang (1) / Tidak ingin membeli barang (0): \"))\n",
        "        if choice == 0:\n",
        "            print(\"Terima kasih sudah melihat Makanan/Minuman di aplikasi kami!\")\n",
        "            break\n",
        "        else:\n",
        "            uid = rd.randint(30300,30399)\n",
        "            print(\"Silakan masukkan data diri Anda!\")\n",
        "            uname = str(input(\"Masukkan nama Anda: \"))\n",
        "            uphone = int(input(\"Masukkan nomor telepon Anda: \"))\n",
        "            umail = str(input(\"Masukkan alamat email Anda: \"))\n",
        "            uaddress = str(input(\"Masukkan alamat pengiriman Anda: \"))\n",
        "            c.execute(insertpengguna, (uid, uname, uphone, umail, uaddress))\n",
        "\n",
        "            resto = int(input(\"Masukkan id_restoran yang ingin Anda lihat menunya: \"))\n",
        "            print(pd.read_sql_query('SELECT * FROM Menu', conn))\n",
        "\n",
        "            menu = int(input(\"Masukkan id_menu yang ingin Anda beli: \"))\n",
        "            qty = int(input(\"Masukkan jumlah yang ingin Anda beli: \"))\n",
        "            currentTimeDate = datetime.now()\n",
        "            print(\"Durasi Pengiriman:\\n30 menit: Rp10.000,00\\n1 jam: Rp15.000,0\")\n",
        "            durasi = str(input(\"Masukkan lama pengiriman (30 menit (0) / 1 jam (1)): \"))\n",
        "            oid = rd.randint(50500,50599)\n",
        "            if durasi == 0:\n",
        "                sid = rd.randint(40400,40499)\n",
        "                cid = rd.randint(10100,10199)\n",
        "                c.execute(insertpengiriman, (sid, 10000, '30 menit', cid))\n",
        "            else:\n",
        "                sid = rd.randint(40400,40499)\n",
        "                cid = rd.randint(10100,10199)\n",
        "                c.execute(insertpengiriman, (sid, 15000, '1 jam', cid))\n",
        "            totprice = int(input(\"Masukkan total biaya Anda: \"))\n",
        "            c.execute(insertpesanan, (oid, totprice, currentTimeDate, 'Disiapkan', uid, menu, sid))\n",
        "            print(\"Terima kasih sudah melakukan pembelian di aplikasi Kami!\")\n",
        "            break\n",
        "    elif posisi == 0:\n",
        "        rid = rd.randint(60600,60699)\n",
        "        rname = str(input(\"Masukkan nama Restoran Anda: \"))\n",
        "        raddress = str(input(\"Masukkan alamat Restoran Anda: \"))\n",
        "        rrating = float(input(\"Masukkan rating Restoran Anda: \"))\n",
        "        rphone = str(input(\"Masukkan nomor telepon Restoran Anda: \"))\n",
        "        c.execute(insertrestoran, (rid, rname, raddress, rrating, rphone))\n",
        "\n",
        "        mid = rd.randint(20200,20299)\n",
        "        mname = str(input(\"Masukkan nama menu yang ingin Anda jual: \"))\n",
        "        mdesc = str(input(\"Masukkan deskripsi dari menu yang ingin Anda jual: \"))\n",
        "        mprice = int(input(\"Masukkan harga dari menu yang ingin Anda jual: \"))\n",
        "        mcat = str(input(\"Masukkan kategori dari menu yang ingin Anda jual: \"))\n",
        "        mqty = str(input(\"Masukkan jumlah dari menu yang ingin Anda jual: \"))\n",
        "        c.execute(insertmenu, (mid, rid, mname, mdesc, mprice, mcat, mqty))\n",
        "\n",
        "        print(\"Terima kasih menjual masakan Anda di aplikasi Kami!\")\n",
        "        break\n",
        "    else:\n",
        "        cid = int(input(\"Masukkan id_kurir Anda: \"))\n",
        "        print(pd.read_sql_query('SELECT * FROM Pesanan', conn))\n",
        "        break"
      ],
      "metadata": {
        "id": "wzkfMRCHcimx",
        "colab": {
          "base_uri": "https://localhost:8080/"
        },
        "outputId": "6a683651-6e2d-49be-f6b1-e8ae6410455c"
      },
      "id": "wzkfMRCHcimx",
      "execution_count": null,
      "outputs": [
        {
          "output_type": "stream",
          "name": "stdout",
          "text": [
            "   id_restoran                    nama_restoran  \\\n",
            "0        60601  Nasi Cumi Hitam Madura Pak Kris   \n",
            "1        60602                       Mie Gacoan   \n",
            "2        60603                            Mixue   \n",
            "3        60604            Ayam Gepuk Pak Gembus   \n",
            "4        60605                  Papa Rons Pizza   \n",
            "\n",
            "                                       alamat  rating         kontak  \n",
            "0     Jl. H. Nawi Raya No.28, Jakarta Selatan     4.4   082310107778  \n",
            "1                    Jl. Bintara, Kota Bekasi     4.5  0895414854300  \n",
            "2    Jl. Sumur Batu Raya No.14, Jakarta Pusat     4.6    08118160829  \n",
            "3  Jl. Meruya Ilir Raya No. 88, Jakarta Barat     4.7    08161998777  \n",
            "4     Jl. Kelapa Nias Blok HF3, Jakarta Utara     4.3   085810616466  \n",
            "\n",
            "Apa tujuan Anda di sini? (Seller (0) / Customer (1) / Driver (2)): 0\n",
            "Masukkan nama Restoran Anda: Warkop Kel. 3\n",
            "Masukkan alamat Restoran Anda: Jl. Akses UI, Depok\n",
            "Masukkan rating Restoran Anda: 4.6\n",
            "Masukkan nomor telepon Restoran Anda: 081234567890\n",
            "Masukkan nama menu yang ingin Anda jual: Intel\n",
            "Masukkan deskripsi dari menu yang ingin Anda jual: Indomie + Telur\n",
            "Masukkan harga dari menu yang ingin Anda jual: 10000\n",
            "Masukkan kategori dari menu yang ingin Anda jual: Makanan\n",
            "Masukkan jumlah dari menu yang ingin Anda jual: 20\n",
            "Terima kasih menjual masakan Anda di aplikasi Kami!\n"
          ]
        }
      ]
    },
    {
      "cell_type": "code",
      "source": [
        "print(pd.read_sql_query(\"\"\"SELECT Restoran.nama_restoran, Restoran.alamat, Restoran.kontak, Menu.nama_produk, Menu.deskripsi, Menu.kategori, Menu.harga\n",
        "FROM Restoran JOIN Menu\n",
        "on Restoran.id_restoran=Menu.id_restoran\"\"\", conn))"
      ],
      "metadata": {
        "colab": {
          "base_uri": "https://localhost:8080/"
        },
        "id": "ZKoNdLVEJV8A",
        "outputId": "e408c89a-eb96-47c0-ac2e-e06b7e40941d"
      },
      "id": "ZKoNdLVEJV8A",
      "execution_count": null,
      "outputs": [
        {
          "output_type": "stream",
          "name": "stdout",
          "text": [
            "                     nama_restoran  \\\n",
            "0  Nasi Cumi Hitam Madura Pak Kris   \n",
            "1                       Mie Gacoan   \n",
            "2                            Mixue   \n",
            "3            Ayam Gepuk Pak Gembus   \n",
            "4                  Papa Rons Pizza   \n",
            "5                    Warkop Kel. 3   \n",
            "\n",
            "                                       alamat         kontak  \\\n",
            "0     Jl. H. Nawi Raya No.28, Jakarta Selatan   082310107778   \n",
            "1                    Jl. Bintara, Kota Bekasi  0895414854300   \n",
            "2    Jl. Sumur Batu Raya No.14, Jakarta Pusat    08118160829   \n",
            "3  Jl. Meruya Ilir Raya No. 88, Jakarta Barat    08161998777   \n",
            "4     Jl. Kelapa Nias Blok HF3, Jakarta Utara   085810616466   \n",
            "5                         Jl. Akses UI, Depok   081234567890   \n",
            "\n",
            "              nama_produk                                          deskripsi  \\\n",
            "0          Nasi Cumi Item  Nasi, Cumi Item, Mie, Serundeng, Peyek Udang, ...   \n",
            "1          Mie Gacoan LV1      Mie kenyal, Cabai, Ayam suwir, Pangsit goreng   \n",
            "2  Coconut Jelly Milk Tea  Milk tea dengan topping coconut jelly yang lembut   \n",
            "3        Ayam Goreng Paha              Nasi + Ayam Goreng + Sambal + Lalapan   \n",
            "4                 Combo A  Papas pizza large, Mac n cheese, Garlic bread,...   \n",
            "5                   Intel                                    Indomie + Telur   \n",
            "\n",
            "  kategori    harga  \n",
            "0  Makanan  45000.0  \n",
            "1  Makanan  14500.0  \n",
            "2  Minuman  21000.0  \n",
            "3  Makanan  24000.0  \n",
            "4  Makanan  16000.0  \n",
            "5  Makanan  10000.0  \n"
          ]
        }
      ]
    },
    {
      "cell_type": "code",
      "execution_count": null,
      "id": "4cb57382",
      "metadata": {
        "id": "4cb57382"
      },
      "outputs": [],
      "source": [
        "conn.commit()\n",
        "conn.close()"
      ]
    },
    {
      "cell_type": "code",
      "source": [],
      "metadata": {
        "id": "ydl3k524N437"
      },
      "id": "ydl3k524N437",
      "execution_count": null,
      "outputs": []
    }
  ],
  "metadata": {
    "kernelspec": {
      "display_name": "Python 3 (ipykernel)",
      "language": "python",
      "name": "python3"
    },
    "language_info": {
      "codemirror_mode": {
        "name": "ipython",
        "version": 3
      },
      "file_extension": ".py",
      "mimetype": "text/x-python",
      "name": "python",
      "nbconvert_exporter": "python",
      "pygments_lexer": "ipython3",
      "version": "3.10.9"
    },
    "colab": {
      "provenance": []
    }
  },
  "nbformat": 4,
  "nbformat_minor": 5
}
